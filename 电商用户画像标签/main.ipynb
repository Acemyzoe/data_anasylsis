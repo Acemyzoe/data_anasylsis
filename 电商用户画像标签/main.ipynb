{
 "metadata": {
  "language_info": {
   "codemirror_mode": {
    "name": "ipython",
    "version": 3
   },
   "file_extension": ".py",
   "mimetype": "text/x-python",
   "name": "python",
   "nbconvert_exporter": "python",
   "pygments_lexer": "ipython3",
   "version": "3.7.6-final"
  },
  "orig_nbformat": 2,
  "kernelspec": {
   "name": "python3",
   "display_name": "Python 3.7.6 64-bit ('base': conda)",
   "metadata": {
    "interpreter": {
     "hash": "8006839468baa8b4aaf24751e15b7e19152492e5a770703664bc42faa7cb06c8"
    }
   }
  }
 },
 "nbformat": 4,
 "nbformat_minor": 2,
 "cells": [
  {
   "cell_type": "code",
   "execution_count": null,
   "metadata": {},
   "outputs": [],
   "source": [
    "import numpy as np\n",
    "import pandas as pd\n",
    "from matplotlib import pyplot as plt\n",
    "import gc\n",
    "import warnings\n",
    "warnings.filterwarnings('ignore')\n",
    "from datetime import datetime\n",
    "# 导入数据集\n",
    "df_orginal = pd.read_csv('./taobao_persona_1%.csv')"
   ]
  },
  {
   "cell_type": "code",
   "execution_count": null,
   "metadata": {},
   "outputs": [],
   "source": [
    "\"数据预处理\"\n",
    "\"\"\" 1.数据抽样\"\"\"\n",
    "# 数据集太大，为了提高运行效率，只随机抽取20%的数据\n",
    "df = df_orginal.sample(frac=0.2,random_state=None)\n",
    "# df.to_csv(\"./taobao_persona_1%.csv\",index=0)\n",
    "#回收内存\n",
    "del df_orginal\n",
    "gc.collect()"
   ]
  },
  {
   "cell_type": "code",
   "execution_count": null,
   "metadata": {},
   "outputs": [],
   "source": [
    "\"\"\"2.缺失值处理\"\"\"\n",
    "df.info()\n",
    "# 查看各字段的缺失值数量\n",
    "print(df.isnull().sum())\n",
    "# 只有user_geohash有缺失值，且缺失的比例很高，无统计分析的意义，将此列删除\n",
    "df.drop('user_geohash',axis=1,inplace=True)"
   ]
  },
  {
   "cell_type": "code",
   "execution_count": null,
   "metadata": {},
   "outputs": [],
   "source": [
    "\"\"\"3.日期与时段处理\"\"\"\n",
    "#将time字段拆分为日期和时段\n",
    "df['date'] = df['time'].str[0:10]\n",
    "df['date'] = pd.to_datetime(df['date'],format='%Y-%m-%d')\n",
    "df['time'] = df['time'].str[11:]\n",
    "df['time'] = df['time'].astype(int)\n",
    "#将时段分为'凌晨'、'上午'、'中午'、'下午'、'晚上'\n",
    "df['hour'] = pd.cut(df['time'],bins=[-1,5,10,13,18,24],labels=['凌晨','上午','中午','下午','晚上'])"
   ]
  },
  {
   "cell_type": "code",
   "execution_count": null,
   "metadata": {},
   "outputs": [],
   "source": [
    "\"\"\"4.制作用户标签表\"\"\"\n",
    "#生成用户标签表，制作好的标签都加入这个表中\n",
    "users = df['user_id'].unique()\n",
    "labels = pd.DataFrame(users,columns=['user_id'])"
   ]
  },
  {
   "cell_type": "code",
   "execution_count": 17,
   "metadata": {},
   "outputs": [],
   "source": [
    "\"用户行为标签\"\n",
    "\"\"\"1.用户浏览活跃时间段\"\"\"\n",
    "#对用户和时段分组，统计浏览次数\n",
    "time_browse = df[df['behavior_type']==1].groupby(['user_id','hour']).item_id.count().reset_index()\n",
    "time_browse.rename(columns={'item_id':'hour_counts'},inplace=True)\n",
    "#统计每个用户浏览次数最多的时段\n",
    "time_browse_max = time_browse.groupby('user_id').hour_counts.max().reset_index()\n",
    "time_browse_max.rename(columns={'hour_counts':'read_counts_max'},inplace=True)\n",
    "time_browse = pd.merge(time_browse,time_browse_max,how='left',on='user_id')\n",
    "#选取各用户浏览次数最多的时段，如有并列最多的时段，用逗号连接\n",
    "time_browse_hour = time_browse.loc[time_browse['hour_counts']==time_browse['read_counts_max'],'hour'].groupby(time_browse['user_id']).aggregate(lambda x:','.join(x)).reset_index()\n",
    "#将用户浏览活跃时间段加入到用户标签表中\n",
    "labels = pd.merge(labels,time_browse_hour,how='left',on='user_id')\n",
    "labels.rename(columns={'hour':'time_browse'},inplace=True)"
   ]
  },
  {
   "cell_type": "code",
   "execution_count": null,
   "metadata": {},
   "outputs": [],
   "source": [
    "\"\"\"2.用户购买活跃时间段\"\"\"\n",
    "#生成逻辑与浏览活跃时间段相同\n",
    "time_buy = df[df['behavior_type']==4].groupby(['user_id','hour']).item_id.count().reset_index()\n",
    "time_buy.rename(columns={'item_id':'hour_counts'},inplace=True)\n",
    "time_buy_max = time_buy.groupby('user_id').hour_counts.max().reset_index()\n",
    "time_buy_max.rename(columns={'hour_counts':'buy_counts_max'},inplace=True)\n",
    "time_buy = pd.merge(time_buy,time_buy_max,how='left',on='user_id')\n",
    "time_buy_hour = time_buy.loc[time_buy['hour_counts']==time_buy['buy_counts_max'],'hour'].groupby(time_buy['user_id']).aggregate(lambda x:','.join(x)).reset_index()\n",
    "#将用户购买活跃时间段加入到用户标签表中\n",
    "labels = pd.merge(labels,time_buy_hour,how='left',on='user_id')\n",
    "labels.rename(columns={'hour':'time_buy'},inplace=True)"
   ]
  },
  {
   "cell_type": "code",
   "execution_count": null,
   "metadata": {},
   "outputs": [],
   "source": [
    "del time_browse\n",
    "del time_buy\n",
    "del time_browse_hour\n",
    "del time_browse_max\n",
    "del time_buy_hour\n",
    "del time_buy_max\n",
    "gc.collect()"
   ]
  },
  {
   "cell_type": "code",
   "execution_count": null,
   "metadata": {},
   "outputs": [],
   "source": [
    "\"关于类目的用户行为\"\n",
    "df_browse = df.loc[df['behavior_type']==1,['user_id','item_id','item_category']]\n",
    "df_collect = df.loc[df['behavior_type']==2,['user_id','item_id','item_category']]\n",
    "df_cart = df.loc[df['behavior_type']==3,['user_id','item_id','item_category']]\n",
    "df_buy = df.loc[df['behavior_type']==4,['user_id','item_id','item_category']]"
   ]
  },
  {
   "cell_type": "code",
   "execution_count": null,
   "metadata": {},
   "outputs": [],
   "source": [
    "\"\"\"浏览最多的类目\"\"\"\n",
    "#对用户与类目进行分组，统计浏览次数\n",
    "df_cate_most_browse = df_browse.groupby(['user_id','item_category']).item_id.count().reset_index()"
   ]
  }
 ]
}