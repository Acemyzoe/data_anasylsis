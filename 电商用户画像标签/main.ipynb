{
 "metadata": {
  "language_info": {
   "codemirror_mode": {
    "name": "ipython",
    "version": 3
   },
   "file_extension": ".py",
   "mimetype": "text/x-python",
   "name": "python",
   "nbconvert_exporter": "python",
   "pygments_lexer": "ipython3",
   "version": "3.7.6-final"
  },
  "orig_nbformat": 2,
  "kernelspec": {
   "name": "python3",
   "display_name": "Python 3.7.6 64-bit ('base': conda)",
   "metadata": {
    "interpreter": {
     "hash": "8006839468baa8b4aaf24751e15b7e19152492e5a770703664bc42faa7cb06c8"
    }
   }
  }
 },
 "nbformat": 4,
 "nbformat_minor": 2,
 "cells": [
  {
   "cell_type": "code",
   "execution_count": null,
   "metadata": {},
   "outputs": [],
   "source": [
    "import numpy as np\n",
    "import pandas as pd\n",
    "from matplotlib import pyplot as plt\n",
    "import gc\n",
    "import warnings\n",
    "warnings.filterwarnings('ignore')\n",
    "from datetime import datetime\n",
    "# 导入数据集\n",
    "df_orginal = pd.read_csv('./taobao_persona_1%.csv')"
   ]
  },
  {
   "cell_type": "code",
   "execution_count": null,
   "metadata": {},
   "outputs": [],
   "source": [
    "\"数据预处理\"\n",
    "\"\"\" 1.数据抽样\"\"\"\n",
    "# 数据集太大，为了提高运行效率，只随机抽取20%的数据\n",
    "df = df_orginal.sample(frac=0.2,random_state=None)\n",
    "# df.to_csv(\"./taobao_persona_1%.csv\",index=0)\n",
    "#回收内存\n",
    "del df_orginal\n",
    "gc.collect()"
   ]
  },
  {
   "cell_type": "code",
   "execution_count": null,
   "metadata": {},
   "outputs": [],
   "source": [
    "\"\"\"2.缺失值处理\"\"\"\n",
    "df.info()\n",
    "# 查看各字段的缺失值数量\n",
    "print(df.isnull().sum())\n",
    "# 只有user_geohash有缺失值，且缺失的比例很高，无统计分析的意义，将此列删除\n",
    "df.drop('user_geohash',axis=1,inplace=True)"
   ]
  },
  {
   "cell_type": "code",
   "execution_count": null,
   "metadata": {},
   "outputs": [],
   "source": [
    "\"\"\"3.日期与时段处理\"\"\"\n",
    "#将time字段拆分为日期和时段\n",
    "df['date'] = df['time'].str[0:10]\n",
    "df['date'] = pd.to_datetime(df['date'],format='%Y-%m-%d')\n",
    "df['time'] = df['time'].str[11:]\n",
    "df['time'] = df['time'].astype(int)\n",
    "#将时段分为'凌晨'、'上午'、'中午'、'下午'、'晚上'\n",
    "df['hour'] = pd.cut(df['time'],bins=[-1,5,10,13,18,24],labels=['凌晨','上午','中午','下午','晚上'])"
   ]
  },
  {
   "cell_type": "code",
   "execution_count": null,
   "metadata": {},
   "outputs": [],
   "source": [
    "\"\"\"4.制作用户标签表\"\"\"\n",
    "#生成用户标签表，制作好的标签都加入这个表中\n",
    "users = df['user_id'].unique()\n",
    "labels = pd.DataFrame(users,columns=['user_id'])"
   ]
  },
  {
   "cell_type": "code",
   "execution_count": null,
   "metadata": {},
   "outputs": [],
   "source": [
    "\"用户行为标签\"\n",
    "\"\"\"1.用户浏览活跃时间段\"\"\"\n",
    "#对用户和时段分组，统计浏览次数\n",
    "time_browse = df[df['behavior_type']==1].groupby(['user_id','hour']).item_id.count().reset_index()\n",
    "time_browse.rename(columns={'item_id':'hour_counts'},inplace=True)\n",
    "#统计每个用户浏览次数最多的时段\n",
    "time_browse_max = time_browse.groupby('user_id').hour_counts.max().reset_index()\n",
    "time_browse_max.rename(columns={'hour_counts':'read_counts_max'},inplace=True)\n",
    "time_browse = pd.merge(time_browse,time_browse_max,how='left',on='user_id')\n",
    "#选取各用户浏览次数最多的时段，如有并列最多的时段，用逗号连接\n",
    "time_browse_hour = time_browse.loc[time_browse['hour_counts']==time_browse['read_counts_max'],'hour'].groupby(time_browse['user_id']).aggregate(lambda x:','.join(x)).reset_index()\n",
    "#将用户浏览活跃时间段加入到用户标签表中\n",
    "labels = pd.merge(labels,time_browse_hour,how='left',on='user_id')\n",
    "labels.rename(columns={'hour':'time_browse'},inplace=True)"
   ]
  },
  {
   "cell_type": "code",
   "execution_count": null,
   "metadata": {},
   "outputs": [],
   "source": [
    "\"\"\"2.用户购买活跃时间段\"\"\"\n",
    "#生成逻辑与浏览活跃时间段相同\n",
    "time_buy = df[df['behavior_type']==4].groupby(['user_id','hour']).item_id.count().reset_index()\n",
    "time_buy.rename(columns={'item_id':'hour_counts'},inplace=True)\n",
    "time_buy_max = time_buy.groupby('user_id').hour_counts.max().reset_index()\n",
    "time_buy_max.rename(columns={'hour_counts':'buy_counts_max'},inplace=True)\n",
    "time_buy = pd.merge(time_buy,time_buy_max,how='left',on='user_id')\n",
    "time_buy_hour = time_buy.loc[time_buy['hour_counts']==time_buy['buy_counts_max'],'hour'].groupby(time_buy['user_id']).aggregate(lambda x:','.join(x)).reset_index()\n",
    "#将用户购买活跃时间段加入到用户标签表中\n",
    "labels = pd.merge(labels,time_buy_hour,how='left',on='user_id')\n",
    "labels.rename(columns={'hour':'time_buy'},inplace=True)"
   ]
  },
  {
   "cell_type": "code",
   "execution_count": null,
   "metadata": {},
   "outputs": [],
   "source": [
    "del time_browse\n",
    "del time_buy\n",
    "del time_browse_hour\n",
    "del time_browse_max\n",
    "del time_buy_hour\n",
    "del time_buy_max\n",
    "gc.collect()"
   ]
  },
  {
   "cell_type": "code",
   "execution_count": null,
   "metadata": {},
   "outputs": [],
   "source": [
    "\"关于类目的用户行为\"\n",
    "df_browse = df.loc[df['behavior_type']==1,['user_id','item_id','item_category']]\n",
    "df_collect = df.loc[df['behavior_type']==2,['user_id','item_id','item_category']]\n",
    "df_cart = df.loc[df['behavior_type']==3,['user_id','item_id','item_category']]\n",
    "df_buy = df.loc[df['behavior_type']==4,['user_id','item_id','item_category']]"
   ]
  },
  {
   "cell_type": "code",
   "execution_count": null,
   "metadata": {},
   "outputs": [],
   "source": [
    "\"\"\"1.浏览最多的类目\"\"\"\n",
    "#对用户与类目进行分组，统计浏览次数\n",
    "df_cate_most_browse = df_browse.groupby(['user_id','item_category']).item_id.count().reset_index()\n",
    "df_cate_most_browse.rename(columns={'item_id':'item_category_counts'},inplace=True)\n",
    "#统计每个用户浏览次数最多的类目\n",
    "df_cate_most_browse_max = df_cate_most_browse.groupby('user_id').item_category_counts.max().reset_index()\n",
    "df_cate_most_browse_max.rename(columns={'item_category_counts':'item_category_counts_max'},inplace=True)\n",
    "df_cate_most_browse = pd.merge(df_cate_most_browse,df_cate_most_browse_max,how='left',on='user_id')\n",
    "df_cate_most_browse['item_category'] = df_cate_most_browse['item_category'].astype(str)\n",
    "#选取各用户浏览次数最多的类目，如有并列最多的类目，用逗号连接\n",
    "df_cate_browse = df_cate_most_browse.loc[df_cate_most_browse['item_category_counts']==df_cate_most_browse['item_category_counts_max'],'item_category'].groupby(df_cate_most_browse['user_id']).aggregate(lambda x:','.join(x)).reset_index()\n",
    "#将用户浏览最多的类目加入到用户标签表中\n",
    "labels = pd.merge(labels,df_cate_browse,how='left',on='user_id')\n",
    "labels.rename(columns={'item_category':'cate_most_browse'},inplace=True)"
   ]
  },
  {
   "cell_type": "code",
   "execution_count": null,
   "metadata": {},
   "outputs": [],
   "source": [
    "\"\"\"2.收藏最多的类目\"\"\"\n",
    "#生成逻辑与浏览最多的类目相同\n",
    "df_cate_most_collect = df_collect.groupby(['user_id','item_category']).item_id.count().reset_index()\n",
    "df_cate_most_collect.rename(columns={'item_id':'item_category_counts'},inplace=True)\n",
    "df_cate_most_collect_max = df_cate_most_collect.groupby('user_id').item_category_counts.max().reset_index()\n",
    "df_cate_most_collect_max.rename(columns={'item_category_counts':'item_category_counts_max'},inplace=True)\n",
    "df_cate_most_collect = pd.merge(df_cate_most_collect,df_cate_most_collect_max,how='left',on='user_id')\n",
    "df_cate_most_collect['item_category'] = df_cate_most_collect['item_category'].astype(str)\n",
    "df_cate_collect = df_cate_most_collect.loc[df_cate_most_collect['item_category_counts']==df_cate_most_collect['item_category_counts_max'],'item_category'].groupby(df_cate_most_collect['user_id']).aggregate(lambda x:','.join(x)).reset_index()\n",
    "labels = pd.merge(labels,df_cate_collect,how='left',on='user_id')\n",
    "labels.rename(columns={'item_category':'cate_most_collect'},inplace=True)"
   ]
  },
  {
   "cell_type": "code",
   "execution_count": null,
   "metadata": {},
   "outputs": [],
   "source": [
    "\"\"\"3.加购最多的类目\"\"\"\n",
    "#生成逻辑与浏览最多的类目相同\n",
    "df_cate_most_cart = df_cart.groupby(['user_id','item_category']).item_id.count().reset_index()\n",
    "df_cate_most_cart.rename(columns={'item_id':'item_category_counts'},inplace=True)\n",
    "df_cate_most_cart_max = df_cate_most_cart.groupby('user_id').item_category_counts.max().reset_index()\n",
    "df_cate_most_cart_max.rename(columns={'item_category_counts':'item_category_counts_max'},inplace=True)\n",
    "df_cate_most_cart = pd.merge(df_cate_most_cart,df_cate_most_cart_max,how='left',on='user_id')\n",
    "df_cate_most_cart['item_category'] = df_cate_most_cart['item_category'].astype(str)\n",
    "df_cate_cart = df_cate_most_cart.loc[df_cate_most_cart['item_category_counts']==df_cate_most_cart['item_category_counts_max'],'item_category'].groupby(df_cate_most_cart['user_id']).aggregate(lambda x:','.join(x)).reset_index()\n",
    "labels = pd.merge(labels,df_cate_cart,how='left',on='user_id')\n",
    "labels.rename(columns={'item_category':'cate_most_cart'},inplace=True)"
   ]
  },
  {
   "cell_type": "code",
   "execution_count": null,
   "metadata": {},
   "outputs": [],
   "source": [
    "\"\"\"4.购买最多的类目\"\"\"\n",
    "#生成逻辑与浏览最多的类目相同\n",
    "df_cate_most_buy = df_buy.groupby(['user_id','item_category']).item_id.count().reset_index()\n",
    "df_cate_most_buy = df_buy.groupby(['user_id','item_category']).item_id.count().reset_index()\n",
    "df_cate_most_buy.rename(columns={'item_id':'item_category_counts'},inplace=True)\n",
    "df_cate_most_buy_max = df_cate_most_buy.groupby('user_id').item_category_counts.max().reset_index()\n",
    "df_cate_most_buy_max.rename(columns={'item_category_counts':'item_category_counts_max'},inplace=True)\n",
    "df_cate_most_buy = pd.merge(df_cate_most_buy,df_cate_most_buy_max,how='left',on='user_id')\n",
    "df_cate_most_buy['item_category'] = df_cate_most_buy['item_category'].astype(str)\n",
    "df_cate_buy = df_cate_most_buy.loc[df_cate_most_buy['item_category_counts']==df_cate_most_buy['item_category_counts_max'],'item_category'].groupby(df_cate_most_buy['user_id']).aggregate(lambda x:','.join(x)).reset_index()\n",
    "labels = pd.merge(labels,df_cate_buy,how='left',on='user_id')\n",
    "labels.rename(columns={'item_category':'cate_most_buy'},inplace=True)"
   ]
  },
  {
   "cell_type": "code",
   "execution_count": null,
   "metadata": {},
   "outputs": [],
   "source": [
    "del df_browse\n",
    "del df_collect\n",
    "del df_cart\n",
    "del df_buy\n",
    "del df_cate_most_browse\n",
    "del df_cate_most_collect\n",
    "del df_cate_most_buy\n",
    "del df_cate_most_cart\n",
    "del df_cate_most_browse_max\n",
    "del df_cate_most_collect_max\n",
    "del df_cate_most_cart_max\n",
    "del df_cate_most_buy_max\n",
    "del df_cate_browse\n",
    "del df_cate_collect\n",
    "del df_cate_cart\n",
    "del df_cate_buy\n",
    "gc.collect()"
   ]
  },
  {
   "cell_type": "code",
   "execution_count": null,
   "metadata": {},
   "outputs": [],
   "source": [
    "\"30天用户行为\"\n",
    "\"\"\"近30天购买次数\"\"\"\n",
    "#将购买行为按用户进行分组，统计次数\n",
    "df_counts_30_buy = df[df['behavior_type']==4].groupby('user_id').item_id.count().reset_index()\n",
    "labels = pd.merge(labels,df_counts_30_buy,how='left',on='user_id')\n",
    "labels.rename(columns={'item_id':'counts_30_buy'},inplace=True)\n",
    "\"\"\"近30天加购次数\"\"\"\n",
    "#将加购行为按用户进行分组，统计次数\n",
    "df_counts_30_cart = df[df['behavior_type']==3].groupby('user_id').item_id.count().reset_index()\n",
    "labels = pd.merge(labels,df_counts_30_cart,how='left',on='user_id')\n",
    "labels.rename(columns={'item_id':'counts_30_cart'},inplace=True)\n",
    "\"\"\"近30天活跃天数\"\"\"\n",
    "#对用户进行分组，统计活跃的天数，包括浏览、收藏、加购、购买\n",
    "counts_30_active = df.groupby('user_id')['date'].nunique()\n",
    "labels = pd.merge(labels,counts_30_active,how='left',on='user_id')\n",
    "labels.rename(columns={'date':'counts_30_active'},inplace=True)"
   ]
  },
  {
   "cell_type": "code",
   "execution_count": null,
   "metadata": {},
   "outputs": [],
   "source": [
    "del df_counts_30_buy\n",
    "del df_counts_30_cart\n",
    "del counts_30_active\n",
    "gc.collect()"
   ]
  },
  {
   "cell_type": "code",
   "execution_count": null,
   "metadata": {},
   "outputs": [],
   "source": [
    "\"7天用户行为\"\n",
    "#数据集中的最后日期是12月18号，统计11号之后的用户行为\n",
    "df_near_7 = df[df['date']>datetime.strptime('2014-12-11', '%Y-%m-%d')]\n",
    "\"\"\"近7天购买次数\"\"\"\n",
    "\"\"\"近7天加购次数\"\"\"\n",
    "\"\"\"近7天活跃天数\"\"\""
   ]
  },
  {
   "cell_type": "code",
   "execution_count": null,
   "metadata": {},
   "outputs": [],
   "source": [
    "\"最后一次行为距今天数\"\n",
    "\"\"\"上次浏览距今天数\"\"\"\n",
    "days_browse = df[df['behavior_type']==1].groupby('user_id')['date'].max().apply(lambda x:(datetime.strptime('2014-12-19','%Y-%m-%d')-x).days)\n",
    "labels = pd.merge(labels,days_browse,how='left',on='user_id')\n",
    "labels.rename(columns={'date':'days_browse'},inplace=True)\n",
    "\"\"\"上次加购距今天数\"\"\"\n",
    "days_cart = df[df['behavior_type']==3].groupby('user_id')['date'].max().apply(lambda x:(datetime.strptime('2014-12-19','%Y-%m-%d')-x).days)\n",
    "labels = pd.merge(labels,days_cart,how='left',on='user_id')\n",
    "labels.rename(columns={'date':'days_cart'},inplace=True)\n",
    "\"\"\"上次购买距今天数\"\"\"\n",
    "days_buy = df[df['behavior_type']==4].groupby('user_id')['date'].max().apply(lambda x:(datetime.strptime('2014-12-19','%Y-%m-%d')-x).days)\n",
    "labels = pd.merge(labels,days_buy,how='left',on='user_id')\n",
    "labels.rename(columns={'date':'days_buy'},inplace=True)"
   ]
  },
  {
   "cell_type": "code",
   "execution_count": null,
   "metadata": {},
   "outputs": [],
   "source": [
    "del days_browse\n",
    "del days_buy\n",
    "del days_cart\n",
    "gc.collect()"
   ]
  },
  {
   "cell_type": "code",
   "execution_count": null,
   "metadata": {},
   "outputs": [],
   "source": [
    "\"最近两次购买间隔天数\"\n",
    "df_interval_buy = df[df['behavior_type']==4].groupby(['user_id','date']).item_id.count().reset_index()\n",
    "interval_buy = df_interval_buy.groupby('user_id')['date'].apply(lambda x:x.sort_values().diff(1).dropna().head(1)).reset_index()\n",
    "interval_buy['date'] = interval_buy['date'].apply(lambda x : x.days)\n",
    "interval_buy.drop('level_1',axis=1,inplace=True)\n",
    "interval_buy.rename(columns={'date':'interval_buy'},inplace=True)\n",
    "labels = pd.merge(labels,interval_buy,how='left',on='user_id')\n",
    "del df_interval_buy\n",
    "gc.collect()"
   ]
  },
  {
   "cell_type": "code",
   "execution_count": null,
   "metadata": {},
   "outputs": [],
   "source": [
    "\"是否浏览未下单\"\n",
    "df_browse_buy = df.loc[(df['behavior_type']==1) | (df['behavior_type']==4),['user_id','item_id','behavior_type','time']]\n",
    "browse_not_buy = pd.pivot_table(df_browse_buy,index=['user_id','item_id'],columns=['behavior_type'],values=['time'],aggfunc=['count'])\n",
    "browse_not_buy.columns = ['browse','buy']\n",
    "browse_not_buy.fillna(0,inplace=True)\n",
    "browse_not_buy['browse_not_buy'] = 0\n",
    "browse_not_buy.loc[(browse_not_buy['browse']>0) & (browse_not_buy['buy']==0),'browse_not_buy'] = 1\n",
    "browse_not_buy = browse_not_buy.groupby('user_id')['browse_not_buy'].sum().reset_index()\n",
    "\n",
    "labels = pd.merge(labels,browse_not_buy,how='left',on='user_id')\n",
    "labels['browse_not_buy'] = labels['browse_not_buy'].apply(lambda x: '是' if x>0 else '否')"
   ]
  },
  {
   "cell_type": "code",
   "execution_count": null,
   "metadata": {},
   "outputs": [],
   "source": [
    "\"是否加购未下单\"\n",
    "df_cart_buy = df.loc[(df['behavior_type']==3) | (df['behavior_type']==4),['user_id','item_id','behavior_type','time']]\n",
    "cart_not_buy = pd.pivot_table(df_cart_buy,index=['user_id','item_id'],columns=['behavior_type'],values=['time'],aggfunc=['count'])\n",
    "cart_not_buy.columns = ['cart','buy']\n",
    "cart_not_buy.fillna(0,inplace=True)\n",
    "cart_not_buy['cart_not_buy'] = 0\n",
    "cart_not_buy.loc[(cart_not_buy['cart']>0) & (cart_not_buy['buy']==0),'cart_not_buy'] = 1\n",
    "cart_not_buy = cart_not_buy.groupby('user_id')['cart_not_buy'].sum().reset_index()\n",
    "\n",
    "labels = pd.merge(labels,cart_not_buy,how='left',on='user_id')\n",
    "labels['cart_not_buy'] = labels['cart_not_buy'].apply(lambda x: '是' if x>0 else '否')"
   ]
  },
  {
   "cell_type": "code",
   "execution_count": null,
   "metadata": {},
   "outputs": [],
   "source": [
    "\"用户属性标签\"\n",
    "\"\"\"是否复购用户\"\"\"\n",
    "buy_again = df[df['behavior_type']==4].groupby('user_id')['item_id'].count().reset_index()\n",
    "buy_again.rename(columns={'item_id':'buy_again'},inplace=True)\n",
    "\n",
    "labels = pd.merge(labels,buy_again,how='left',on='user_id')\n",
    "labels['buy_again'].fillna(-1,inplace=True)\n",
    "#未购买的用户标记为‘未购买’，有购买未复购的用户标记为‘否’，有复购的用户标记为‘是’\n",
    "labels['buy_again'] = labels['buy_again'].apply(lambda x: '是' if x>1 else  '否' if x==1 else '未购买')"
   ]
  },
  {
   "cell_type": "code",
   "execution_count": null,
   "metadata": {},
   "outputs": [],
   "source": [
    "\"\"\"访问活跃度\"\"\"\n",
    "user_active_level = labels['counts_30_active'].value_counts().sort_index(ascending=False)\n",
    "# plt.figure(figsize=(14,7))\n",
    "# user_active_level.plot(title='30天内访问次数与访问人数的关系',fontsize=18)\n",
    "# plt.ylabel('访问人数',fontsize=14)\n",
    "# plt.xlabel('访问次数',fontsize=14)\n",
    "labels['user_active_level'] = '高'\n",
    "labels.loc[labels['counts_30_active']<=16,'user_active_level'] = '低'"
   ]
  },
  {
   "cell_type": "code",
   "execution_count": null,
   "metadata": {},
   "outputs": [],
   "source": [
    "\"\"\"购买活跃度\"\"\"\n",
    "buy_active_level = labels['counts_30_buy'].value_counts().sort_index(ascending=False)\n",
    "labels['buy_active_level'] = '高'\n",
    "labels.loc[labels['counts_30_buy']<=14,'buy_active_level'] = '低'"
   ]
  },
  {
   "cell_type": "code",
   "execution_count": null,
   "metadata": {},
   "outputs": [],
   "source": [
    "\"\"\"购买的品类是否单一\"\"\"\n",
    "buy_single = df[df['behavior_type']==4].groupby('user_id').item_category.nunique().reset_index()\n",
    "buy_single.rename(columns={'item_category':'buy_single'},inplace=True)\n",
    "labels = pd.merge(labels,buy_single,how='left',on='user_id')\n",
    "labels['buy_single'].fillna(-1,inplace=True)\n",
    "labels['buy_single'] = labels['buy_single'].apply(lambda x: '是' if x>1 else  '否' if x==1 else '未购买' )"
   ]
  },
  {
   "cell_type": "code",
   "execution_count": null,
   "metadata": {},
   "outputs": [],
   "source": [
    "\"\"\"用户价值分组（RFM）\"\"\"\n",
    "last_buy_days = labels['days_buy'].value_counts().sort_index()\n",
    "# plt.figure(figsize=(16,9))\n",
    "# last_buy_days.plot(title='最后一次购买距今天数与购买人数的关系',fontsize=18)\n",
    "# plt.ylabel('购买人数',fontsize=14)\n",
    "# plt.xlabel('距今天数',fontsize=14)\n",
    "labels['buy_days_level'] = '高'\n",
    "labels.loc[labels['days_buy']>8,'buy_days_level'] = '低'\n",
    "labels['rfm_value'] = labels['buy_active_level'].str.cat(labels['buy_days_level'])\n",
    "\n",
    "def trans_value(x):\n",
    "    if x == '高高':\n",
    "        return '重要价值客户'\n",
    "    elif x == '低高':\n",
    "        return '重要深耕客户'\n",
    "    elif x == '高低':\n",
    "        return '重要唤回客户'\n",
    "    else: \n",
    "        return '即将流失客户'\n",
    "\n",
    "labels['rfm'] = labels['rfm_value'].apply(trans_value)\n",
    "labels.drop(['buy_days_level','rfm_value'],axis=1,inplace=True)\n",
    "labels['rfm'].value_counts()"
   ]
  },
  {
   "cell_type": "code",
   "execution_count": null,
   "metadata": {},
   "outputs": [],
   "source": [
    "labels.head()"
   ]
  }
 ]
}